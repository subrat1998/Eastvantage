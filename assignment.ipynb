{
 "cells": [
  {
   "cell_type": "code",
   "execution_count": 1,
   "metadata": {},
   "outputs": [],
   "source": [
    "import sqlite3\n",
    "import csv\n",
    "import pandas as pd"
   ]
  },
  {
   "cell_type": "markdown",
   "metadata": {},
   "source": [
    "Connect to sqlite3 database"
   ]
  },
  {
   "cell_type": "code",
   "execution_count": 2,
   "metadata": {},
   "outputs": [],
   "source": [
    "conn = sqlite3.connect('S30 ETL Assignment.db')\n",
    "cursor = conn.cursor()"
   ]
  },
  {
   "cell_type": "markdown",
   "metadata": {},
   "source": [
    "Executing sql query to fetch output"
   ]
  },
  {
   "cell_type": "code",
   "execution_count": 3,
   "metadata": {},
   "outputs": [],
   "source": [
    "cursor.execute(\"\"\"\n",
    "    SELECT c.customer_id, c.age, i.item_name, SUM(COALESCE(o.quantity, 0)) AS total_quantity\n",
    "    FROM customers c\n",
    "    LEFT JOIN sales s ON c.customer_id = s.customer_id\n",
    "    LEFT JOIN orders o ON s.sales_id = o.sales_id\n",
    "    LEFT JOIN items i ON o.item_id = i.item_id\n",
    "    WHERE c.age BETWEEN 18 AND 35\n",
    "    GROUP BY c.customer_id, i.item_id\n",
    "    HAVING total_quantity > 0\n",
    "    ORDER BY c.customer_id, i.item_id\n",
    "\"\"\")\n",
    "\n",
    "rows = cursor.fetchall()"
   ]
  },
  {
   "cell_type": "code",
   "execution_count": 4,
   "metadata": {},
   "outputs": [
    {
     "data": {
      "text/plain": [
       "[(5, 18, 'x', 3),\n",
       " (5, 18, 'y', 3),\n",
       " (5, 18, 'z', 4),\n",
       " (7, 30, 'x', 14),\n",
       " (7, 30, 'y', 19),\n",
       " (7, 30, 'z', 10),\n",
       " (9, 25, 'x', 5),\n",
       " (9, 25, 'y', 2),\n",
       " (9, 25, 'z', 4),\n",
       " (16, 19, 'x', 5),\n",
       " (16, 19, 'y', 4),\n",
       " (16, 19, 'z', 8),\n",
       " (22, 18, 'x', 5),\n",
       " (22, 18, 'y', 5),\n",
       " (22, 18, 'z', 3),\n",
       " (28, 21, 'x', 3),\n",
       " (28, 21, 'z', 1),\n",
       " (29, 30, 'x', 5),\n",
       " (29, 30, 'y', 12),\n",
       " (29, 30, 'z', 12),\n",
       " (31, 22, 'x', 6),\n",
       " (31, 22, 'y', 7),\n",
       " (31, 22, 'z', 12),\n",
       " (34, 22, 'x', 5),\n",
       " (34, 22, 'y', 6),\n",
       " (34, 22, 'z', 5),\n",
       " (35, 20, 'x', 3),\n",
       " (35, 20, 'y', 5),\n",
       " (35, 20, 'z', 2),\n",
       " (41, 21, 'x', 2),\n",
       " (41, 21, 'y', 4),\n",
       " (41, 21, 'z', 6),\n",
       " (50, 31, 'y', 2),\n",
       " (50, 31, 'z', 1),\n",
       " (58, 30, 'x', 5),\n",
       " (58, 30, 'y', 2),\n",
       " (58, 30, 'z', 4),\n",
       " (59, 24, 'x', 7),\n",
       " (59, 24, 'y', 4),\n",
       " (59, 24, 'z', 5),\n",
       " (68, 32, 'x', 5),\n",
       " (68, 32, 'y', 5),\n",
       " (68, 32, 'z', 3),\n",
       " (70, 29, 'x', 5),\n",
       " (70, 29, 'y', 6),\n",
       " (70, 29, 'z', 1),\n",
       " (78, 19, 'x', 9),\n",
       " (78, 19, 'y', 8),\n",
       " (78, 19, 'z', 3),\n",
       " (79, 26, 'x', 5),\n",
       " (79, 26, 'y', 4),\n",
       " (79, 26, 'z', 7),\n",
       " (80, 23, 'x', 5),\n",
       " (80, 23, 'y', 5),\n",
       " (80, 23, 'z', 6),\n",
       " (83, 33, 'x', 3),\n",
       " (83, 33, 'y', 4),\n",
       " (83, 33, 'z', 5),\n",
       " (86, 35, 'x', 7),\n",
       " (86, 35, 'y', 5),\n",
       " (86, 35, 'z', 5),\n",
       " (90, 19, 'x', 6),\n",
       " (90, 19, 'y', 3),\n",
       " (90, 19, 'z', 5),\n",
       " (97, 23, 'x', 2),\n",
       " (97, 23, 'y', 2),\n",
       " (97, 23, 'z', 3),\n",
       " (100, 30, 'x', 1),\n",
       " (100, 30, 'y', 1),\n",
       " (100, 30, 'z', 5)]"
      ]
     },
     "execution_count": 4,
     "metadata": {},
     "output_type": "execute_result"
    }
   ],
   "source": [
    "rows"
   ]
  },
  {
   "cell_type": "markdown",
   "metadata": {},
   "source": [
    "Writing the result to a CSV file"
   ]
  },
  {
   "cell_type": "code",
   "execution_count": 5,
   "metadata": {},
   "outputs": [],
   "source": [
    "with open('SQL_output.csv', 'w', newline='') as csvfile:\n",
    "    csv_writer = csv.writer(csvfile)\n",
    "    csv_writer.writerow(['Customer', 'Age', 'Item', 'Quantity'])\n",
    "    for row in rows:\n",
    "        csv_writer.writerow(row)"
   ]
  },
  {
   "cell_type": "markdown",
   "metadata": {},
   "source": [
    "Loading all table into pandas dataframe"
   ]
  },
  {
   "cell_type": "code",
   "execution_count": 6,
   "metadata": {},
   "outputs": [],
   "source": [
    "customers_df = pd.read_sql_query(\"SELECT * FROM customers\", conn)\n",
    "sales_df = pd.read_sql_query(\"SELECT * FROM sales\", conn)\n",
    "orders_df = pd.read_sql_query(\"SELECT * FROM orders\", conn)\n",
    "items_df = pd.read_sql_query(\"SELECT * FROM items\", conn)"
   ]
  },
  {
   "cell_type": "markdown",
   "metadata": {},
   "source": [
    "Merging table to get required data"
   ]
  },
  {
   "cell_type": "code",
   "execution_count": 7,
   "metadata": {},
   "outputs": [],
   "source": [
    "merged_df = customers_df.merge(sales_df, on='customer_id', how='left') \\\n",
    "                        .merge(orders_df, on='sales_id', how='left') \\\n",
    "                        .merge(items_df, on='item_id', how='left')"
   ]
  },
  {
   "cell_type": "markdown",
   "metadata": {},
   "source": [
    "Pandas code to get desired output"
   ]
  },
  {
   "cell_type": "code",
   "execution_count": 8,
   "metadata": {},
   "outputs": [],
   "source": [
    "result_df = merged_df[(merged_df['age'] >= 18) & (merged_df['age'] <= 35)] \\\n",
    "                .groupby(['customer_id', 'age', 'item_name'])['quantity'] \\\n",
    "                .sum() \\\n",
    "                .reset_index()"
   ]
  },
  {
   "cell_type": "code",
   "execution_count": 9,
   "metadata": {},
   "outputs": [],
   "source": [
    "result_df = result_df[result_df['quantity'] > 0]"
   ]
  },
  {
   "cell_type": "code",
   "execution_count": 10,
   "metadata": {},
   "outputs": [
    {
     "data": {
      "text/html": [
       "<div>\n",
       "<style scoped>\n",
       "    .dataframe tbody tr th:only-of-type {\n",
       "        vertical-align: middle;\n",
       "    }\n",
       "\n",
       "    .dataframe tbody tr th {\n",
       "        vertical-align: top;\n",
       "    }\n",
       "\n",
       "    .dataframe thead th {\n",
       "        text-align: right;\n",
       "    }\n",
       "</style>\n",
       "<table border=\"1\" class=\"dataframe\">\n",
       "  <thead>\n",
       "    <tr style=\"text-align: right;\">\n",
       "      <th></th>\n",
       "      <th>customer_id</th>\n",
       "      <th>age</th>\n",
       "      <th>item_name</th>\n",
       "      <th>quantity</th>\n",
       "    </tr>\n",
       "  </thead>\n",
       "  <tbody>\n",
       "    <tr>\n",
       "      <th>0</th>\n",
       "      <td>5</td>\n",
       "      <td>18</td>\n",
       "      <td>x</td>\n",
       "      <td>3.0</td>\n",
       "    </tr>\n",
       "    <tr>\n",
       "      <th>1</th>\n",
       "      <td>5</td>\n",
       "      <td>18</td>\n",
       "      <td>y</td>\n",
       "      <td>3.0</td>\n",
       "    </tr>\n",
       "    <tr>\n",
       "      <th>2</th>\n",
       "      <td>5</td>\n",
       "      <td>18</td>\n",
       "      <td>z</td>\n",
       "      <td>4.0</td>\n",
       "    </tr>\n",
       "    <tr>\n",
       "      <th>3</th>\n",
       "      <td>7</td>\n",
       "      <td>30</td>\n",
       "      <td>x</td>\n",
       "      <td>14.0</td>\n",
       "    </tr>\n",
       "    <tr>\n",
       "      <th>4</th>\n",
       "      <td>7</td>\n",
       "      <td>30</td>\n",
       "      <td>y</td>\n",
       "      <td>19.0</td>\n",
       "    </tr>\n",
       "    <tr>\n",
       "      <th>...</th>\n",
       "      <td>...</td>\n",
       "      <td>...</td>\n",
       "      <td>...</td>\n",
       "      <td>...</td>\n",
       "    </tr>\n",
       "    <tr>\n",
       "      <th>67</th>\n",
       "      <td>97</td>\n",
       "      <td>23</td>\n",
       "      <td>y</td>\n",
       "      <td>2.0</td>\n",
       "    </tr>\n",
       "    <tr>\n",
       "      <th>68</th>\n",
       "      <td>97</td>\n",
       "      <td>23</td>\n",
       "      <td>z</td>\n",
       "      <td>3.0</td>\n",
       "    </tr>\n",
       "    <tr>\n",
       "      <th>69</th>\n",
       "      <td>100</td>\n",
       "      <td>30</td>\n",
       "      <td>x</td>\n",
       "      <td>1.0</td>\n",
       "    </tr>\n",
       "    <tr>\n",
       "      <th>70</th>\n",
       "      <td>100</td>\n",
       "      <td>30</td>\n",
       "      <td>y</td>\n",
       "      <td>1.0</td>\n",
       "    </tr>\n",
       "    <tr>\n",
       "      <th>71</th>\n",
       "      <td>100</td>\n",
       "      <td>30</td>\n",
       "      <td>z</td>\n",
       "      <td>5.0</td>\n",
       "    </tr>\n",
       "  </tbody>\n",
       "</table>\n",
       "<p>70 rows × 4 columns</p>\n",
       "</div>"
      ],
      "text/plain": [
       "    customer_id  age item_name  quantity\n",
       "0             5   18         x       3.0\n",
       "1             5   18         y       3.0\n",
       "2             5   18         z       4.0\n",
       "3             7   30         x      14.0\n",
       "4             7   30         y      19.0\n",
       "..          ...  ...       ...       ...\n",
       "67           97   23         y       2.0\n",
       "68           97   23         z       3.0\n",
       "69          100   30         x       1.0\n",
       "70          100   30         y       1.0\n",
       "71          100   30         z       5.0\n",
       "\n",
       "[70 rows x 4 columns]"
      ]
     },
     "execution_count": 10,
     "metadata": {},
     "output_type": "execute_result"
    }
   ],
   "source": [
    "result_df"
   ]
  },
  {
   "cell_type": "markdown",
   "metadata": {},
   "source": [
    "Write the result to a csv file"
   ]
  },
  {
   "cell_type": "code",
   "execution_count": 11,
   "metadata": {},
   "outputs": [],
   "source": [
    "result_df.to_csv('Pandas_output.csv', index=False)"
   ]
  },
  {
   "cell_type": "markdown",
   "metadata": {},
   "source": [
    "Closing the database connection"
   ]
  },
  {
   "cell_type": "code",
   "execution_count": 12,
   "metadata": {},
   "outputs": [],
   "source": [
    "conn.close()"
   ]
  }
 ],
 "metadata": {
  "kernelspec": {
   "display_name": "Python 3",
   "language": "python",
   "name": "python3"
  },
  "language_info": {
   "codemirror_mode": {
    "name": "ipython",
    "version": 3
   },
   "file_extension": ".py",
   "mimetype": "text/x-python",
   "name": "python",
   "nbconvert_exporter": "python",
   "pygments_lexer": "ipython3",
   "version": "3.12.2"
  }
 },
 "nbformat": 4,
 "nbformat_minor": 2
}
